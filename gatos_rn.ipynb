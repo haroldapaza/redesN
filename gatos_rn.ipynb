{
 "cells": [
  {
   "cell_type": "code",
   "execution_count": 179,
   "metadata": {
    "scrolled": false
   },
   "outputs": [],
   "source": [
    "import numpy as np\n",
    "import matplotlib.pyplot as plt\n",
    "import matplotlib.image as mpimg\n",
    "import h5py\n",
    "import scipy\n",
    "import math\n",
    "from PIL import Image\n",
    "from scipy import ndimage\n",
    "\n",
    "#from lr_utils import load_dataset\n"
   ]
  },
  {
   "cell_type": "code",
   "execution_count": 180,
   "metadata": {},
   "outputs": [],
   "source": [
    "def load_dataset():\n",
    "    train_dataset = h5py.File('datasets/train_catvnoncat.h5', \"r\")\n",
    "    train_set_x_orig = np.array(train_dataset[\"train_set_x\"][:]) # your train set features\n",
    "    train_set_y_orig = np.array(train_dataset[\"train_set_y\"][:]) # your train set labels\n",
    "    print(train_set_x_orig.shape)\n",
    "    \n",
    "    test_dataset = h5py.File('datasets/test_catvnoncat.h5', \"r\")\n",
    "    test_set_x_orig = np.array(test_dataset[\"test_set_x\"][:]) # your test set features\n",
    "    test_set_y_orig = np.array(test_dataset[\"test_set_y\"][:]) # your test set labels\n",
    "\n",
    "    classes = np.array(test_dataset[\"list_classes\"][:]) # the list of classes\n",
    "    \n",
    "    train_set_y_orig = train_set_y_orig.reshape((1, train_set_y_orig.shape[0]))\n",
    "    test_set_y_orig = test_set_y_orig.reshape((1, test_set_y_orig.shape[0]))\n",
    "    \n",
    "    print(\"hi5\"+\"hola como estas\")\n",
    "    return train_set_x_orig, train_set_y_orig, test_set_x_orig, test_set_y_orig, classes"
   ]
  },
  {
   "cell_type": "code",
   "execution_count": 181,
   "metadata": {},
   "outputs": [
    {
     "name": "stdout",
     "output_type": "stream",
     "text": [
      "(209, 64, 64, 3)\n",
      "hi5hola como estas\n"
     ]
    }
   ],
   "source": [
    "train_set_x_orig, train_set_y_orig, test_set_x_orig, test_set_y, classes = load_dataset()"
   ]
  },
  {
   "cell_type": "code",
   "execution_count": 182,
   "metadata": {},
   "outputs": [
    {
     "name": "stdout",
     "output_type": "stream",
     "text": [
      "y = [1] , es =='cat'==imagen\n"
     ]
    },
    {
     "data": {
      "image/png": "[encoded data removed]",
      "text/plain": [
       "<Figure size 432x288 with 1 Axes>"
      ]
     },
     "metadata": {
      "needs_background": "light"
     },
     "output_type": "display_data"
    }
   ],
   "source": [
    "index = 7\n",
    "plt.imshow(train_set_x_orig[index])\n",
    "print(\"y = \"+str(train_set_y_orig[:, index])+ \" , es =='\"+classes[np.squeeze(train_set_y_orig[:, index])].decode(\"utf-8\")+ \"'==imagen\")"
   ]
  },
  {
   "cell_type": "code",
   "execution_count": 183,
   "metadata": {},
   "outputs": [
    {
     "name": "stdout",
     "output_type": "stream",
     "text": [
      "209\n",
      "50\n",
      "64\n"
     ]
    }
   ],
   "source": [
    "m_train = train_set_x_orig.shape[0]\n",
    "m_test = test_set_x_orig.shape[0]\n",
    "num_px = train_set_x_orig.shape[1]\n",
    "\n",
    "print(m_train)\n",
    "print(m_test)\n",
    "print(num_px)\n"
   ]
  },
  {
   "cell_type": "code",
   "execution_count": 184,
   "metadata": {},
   "outputs": [
    {
     "name": "stdout",
     "output_type": "stream",
     "text": [
      "[[ 17 196  82 ... 143  22   8]\n",
      " [ 31 192  71 ... 155  24  28]\n",
      " [ 56 190  68 ... 165  23  53]\n",
      " ...\n",
      " [  0  82 138 ...  85   4   0]\n",
      " [  0  80 141 ... 107   5   0]\n",
      " [  0  81 142 ... 149   0   0]]\n",
      "[[158 115 255 ...  41  18 133]\n",
      " [104 110 253 ...  47  18 163]\n",
      " [ 83 111 254 ...  84  16  75]\n",
      " ...\n",
      " [173 171 133 ... 183 144   5]\n",
      " [128 176 101 ... 141 137  22]\n",
      " [110 186 121 ... 116 108   5]]\n"
     ]
    },
    {
     "data": {
      "image/png": "[encoded data removed]",
      "text/plain": [
       "<Figure size 432x288 with 1 Axes>"
      ]
     },
     "metadata": {
      "needs_background": "light"
     },
     "output_type": "display_data"
    }
   ],
   "source": [
    "train_set_x_flatten  = train_set_x_orig.reshape(train_set_x_orig.shape[0],-1).T\n",
    "print(train_set_x_flatten)\n",
    "plt.imshow(train_set_x_flatten)\n",
    "\n",
    "test_set_x_flatten = test_set_x_orig.reshape(test_set_x_orig.shape[0],-1).T\n",
    "print(test_set_x_flatten)"
   ]
  },
  {
   "cell_type": "code",
   "execution_count": 185,
   "metadata": {},
   "outputs": [
    {
     "name": "stdout",
     "output_type": "stream",
     "text": [
      "[[0.06666667 0.76862745 0.32156863 ... 0.56078431 0.08627451 0.03137255]\n",
      " [0.12156863 0.75294118 0.27843137 ... 0.60784314 0.09411765 0.10980392]\n",
      " [0.21960784 0.74509804 0.26666667 ... 0.64705882 0.09019608 0.20784314]\n",
      " ...\n",
      " [0.         0.32156863 0.54117647 ... 0.33333333 0.01568627 0.        ]\n",
      " [0.         0.31372549 0.55294118 ... 0.41960784 0.01960784 0.        ]\n",
      " [0.         0.31764706 0.55686275 ... 0.58431373 0.         0.        ]]\n"
     ]
    }
   ],
   "source": [
    "train_set_x=train_set_x_flatten/255\n",
    "test_set_x=test_set_x_flatten/255\n",
    "print(train_set_x)\n"
   ]
  },
  {
   "cell_type": "code",
   "execution_count": 186,
   "metadata": {},
   "outputs": [],
   "source": [
    "def initialize_with_zeros(dim):\n",
    "    w= np.zeros((dim,1))\n",
    "    b=0\n",
    "    assert(w.shape == (dim, 1))\n",
    "    assert(isinstance(b, float) or isinstance(b, int))\n",
    "    return b,w"
   ]
  },
  {
   "cell_type": "code",
   "execution_count": 191,
   "metadata": {},
   "outputs": [
    {
     "data": {
      "text/plain": [
       "(0, array([[0.],\n",
       "        [0.],\n",
       "        [0.],\n",
       "        [0.],\n",
       "        [0.],\n",
       "        [0.],\n",
       "        [0.],\n",
       "        [0.],\n",
       "        [0.],\n",
       "        [0.]]))"
      ]
     },
     "execution_count": 191,
     "metadata": {},
     "output_type": "execute_result"
    }
   ],
   "source": [
    "initialize_with_zeros(10)\n"
   ]
  },
  {
   "cell_type": "code",
   "execution_count": 188,
   "metadata": {},
   "outputs": [],
   "source": [
    "def sigmoide(x):\n",
    "     return 1 / (1 + math.e ** -x)"
   ]
  },
  {
   "cell_type": "code",
   "execution_count": 189,
   "metadata": {},
   "outputs": [
    {
     "data": {
      "text/plain": [
       "0.9677045353015494"
      ]
     },
     "execution_count": 189,
     "metadata": {},
     "output_type": "execute_result"
    }
   ],
   "source": [
    "sigmoide(3.4)"
   ]
  },
  {
   "cell_type": "code",
   "execution_count": 201,
   "metadata": {},
   "outputs": [],
   "source": [
    "def propagate(w,b,X,Y):\n",
    "    m=X.shape[1]\n",
    "    A=sigmoide( np.dot(w.T,X)+b)\n",
    "    print(A)\n",
    "    cost = -1/m * np.sum(Y*np.log(A)+(1-Y)*(np.log(1-A)))\n",
    "    \n",
    "    dw = 1/m * np.dot(X,(A-Y).T)\n",
    "    db = 1/m * np.sum(A-Y)\n",
    "    assert(dw.shape == w.shape)\n",
    "    assert(db.dtype == float)\n",
    "    cost = np.squeeze(cost)\n",
    "    assert(cost.shape == ())\n",
    "    grads = {\"dw\": dw,  \"db\": db}\n",
    "    return grads,cost\n"
   ]
  },
  {
   "cell_type": "code",
   "execution_count": 204,
   "metadata": {},
   "outputs": [
    {
     "name": "stdout",
     "output_type": "stream",
     "text": [
      "salida esperada\n",
      "[[0.99987661 0.99999386 0.00449627]]\n",
      "dw = [[0.99845601]\n",
      " [2.39507239]]\n",
      "db = 0.001455578136784208\n",
      "cost = 5.801545319394553\n"
     ]
    }
   ],
   "source": [
    "print(\"salida esperada\")\n",
    "w, b, X, Y = np.array([[1.],[2.]]), 2., np.array([[1.,2.,-1.],[3.,4.,-3.2]]), np.array([[1,0,1]])\n",
    "grads, cost = propagate(w, b, X, Y)\n",
    "print (\"dw = \" + str(grads[\"dw\"]))\n",
    "print (\"db = \" + str(grads[\"db\"]))\n",
    "print (\"cost = \" + str(cost))"
   ]
  },
  {
   "cell_type": "code",
   "execution_count": 194,
   "metadata": {},
   "outputs": [],
   "source": [
    "def optimize(w,b,X,Y,num_iterations,learning_rate,print_cost=False):\n",
    "    costs=[]\n",
    "    for i in range(num_iterations):\n",
    "        grads,cost = propagate(w, b, X, Y)\n",
    "        dw = grads[\"dw\"]\n",
    "        db = grads[\"db\"]\n",
    "        w= w-dw*learning_rate\n",
    "        b= b-db*learning_rate\n",
    "        if i % 100 == 0:\n",
    "            costs.append(cost)\n",
    "        \n",
    "        if print_cost and i % 100 == 0:\n",
    "            print (\"Cost after iteration %i: %f\" %(i, cost))\n",
    "    \n",
    "    params = {\"w\": w, \"b\": b}\n",
    "    grads = {\"dw\": dw, \"db\": db}\n",
    "    return params, grads, costs"
   ]
  },
  {
   "cell_type": "code",
   "execution_count": 206,
   "metadata": {},
   "outputs": [
    {
     "name": "stdout",
     "output_type": "stream",
     "text": [
      "[[0.99987661 0.99999386 0.00449627]]\n",
      "[[0.99986717 0.99999318 0.00485901]]\n",
      "[[0.99985702 0.99999243 0.00525079]]\n",
      "[[0.9998461 0.9999916 0.0056739]]\n",
      "[[0.99983434 0.99999068 0.00613079]]\n",
      "[[0.99982169 0.99998966 0.00662412]]\n",
      "[[0.99980807 0.99998852 0.00715672]]\n",
      "[[0.99979342 0.99998726 0.00773166]]\n",
      "[[0.99977765 0.99998587 0.00835222]]\n",
      "[[0.99976068 0.99998432 0.00902193]]\n",
      "[[0.99974243 0.9999826  0.00974457]]\n",
      "[[0.99972278 0.99998069 0.01052419]]\n",
      "[[0.99970165 0.99997857 0.01136515]]\n",
      "[[0.99967892 0.99997623 0.01227208]]\n",
      "[[0.99965446 0.99997362 0.01324997]]\n",
      "[[0.99962815 0.99997074 0.01430414]]\n",
      "[[0.99959985 0.99996754 0.01544026]]\n",
      "[[0.99956941 0.99996399 0.0166644 ]]\n",
      "[[0.99953668 0.99996006 0.017983  ]]\n",
      "[[0.99950148 0.9999557  0.01940294]]\n",
      "[[0.99946362 0.99995086 0.02093151]]\n",
      "[[0.99942292 0.9999455  0.02257647]]\n",
      "[[0.99937917 0.99993956 0.02434602]]\n",
      "[[0.99933213 0.99993298 0.02624884]]\n",
      "[[0.99928158 0.99992569 0.0282941 ]]\n",
      "[[0.99922725 0.99991762 0.03049146]]\n",
      "[[0.99916886 0.99990867 0.03285107]]\n",
      "[[0.99910614 0.99989876 0.0353836 ]]\n",
      "[[0.99903875 0.99988779 0.03810018]]\n",
      "[[0.99896638 0.99987565 0.04101244]]\n",
      "[[0.99888865 0.99986221 0.04413247]]\n",
      "[[0.99880521 0.99984734 0.0474728 ]]\n",
      "[[0.99871563 0.99983088 0.05104636]]\n",
      "[[0.99861949 0.99981268 0.05486645]]\n",
      "[[0.99851633 0.99979256 0.05894669]]\n",
      "[[0.99840567 0.99977032 0.06330092]]\n",
      "[[0.998287   0.99974574 0.06794318]]\n",
      "[[0.99815976 0.99971859 0.07288757]]\n",
      "[[0.99802339 0.9996886  0.07814817]]\n",
      "[[0.99787726 0.9996555  0.08373893]]\n",
      "[[0.99772073 0.99961897 0.08967354]]\n",
      "[[0.99755313 0.99957868 0.09596524]]\n",
      "[[0.99737372 0.99953425 0.10262672]]\n",
      "[[0.99718176 0.99948529 0.10966994]]\n",
      "[[0.99697645 0.99943136 0.11710591]]\n",
      "[[0.99675695 0.99937198 0.12494455]]\n",
      "[[0.99652239 0.99930664 0.13319445]]\n",
      "[[0.99627186 0.99923479 0.14186271]]\n",
      "[[0.99600438 0.9991558  0.15095472]]\n",
      "[[0.99571896 0.99906904 0.16047398]]\n",
      "[[0.99541457 0.99897379 0.1704219 ]]\n",
      "[[0.9950901  0.99886929 0.18079766]]\n",
      "[[0.99474445 0.99875473 0.19159805]]\n",
      "[[0.99437642 0.99862922 0.20281734]]\n",
      "[[0.99398482 0.99849182 0.21444718]]\n",
      "[[0.99356839 0.99834151 0.22647658]]\n",
      "[[0.99312584 0.9981772  0.23889185]]\n",
      "[[0.99265583 0.99799773 0.25167664]]\n",
      "[[0.99215698 0.99780187 0.26481201]]\n",
      "[[0.99162789 0.99758828 0.27827651]]\n",
      "[[0.9910671  0.99735557 0.29204635]]\n",
      "[[0.99047312 0.99710222 0.30609559]]\n",
      "[[0.98984444 0.99682666 0.32039635]]\n",
      "[[0.98917948 0.9965272  0.33491908]]\n",
      "[[0.98847666 0.99620204 0.34963286]]\n",
      "[[0.98773435 0.9958493  0.36450568]]\n",
      "[[0.98695089 0.99546698 0.37950477]]\n",
      "[[0.9861246  0.99505296 0.39459693]]\n",
      "[[0.98525374 0.99460503 0.40974886]]\n",
      "[[0.98433658 0.99412085 0.42492746]]\n",
      "[[0.98337134 0.99359795 0.44010017]]\n",
      "[[0.98235623 0.99303374 0.45523519]]\n",
      "[[0.98128941 0.9924255  0.47030181]]\n",
      "[[0.98016904 0.99177041 0.48527059]]\n",
      "[[0.97899325 0.99106546 0.50011359]]\n",
      "[[0.97776017 0.99030755 0.51480449]]\n",
      "[[0.97646789 0.98949344 0.5293188 ]]\n",
      "[[0.97511451 0.98861972 0.54363388]]\n",
      "[[0.97369809 0.98768287 0.55772904]]\n",
      "[[0.97221673 0.98667923 0.5715856 ]]\n",
      "[[0.97066849 0.98560499 0.58518685]]\n",
      "[[0.96905145 0.9844562  0.59851809]]\n",
      "[[0.96736371 0.98322879 0.61156653]]\n",
      "[[0.96560337 0.98191855 0.6243213 ]]\n",
      "[[0.96376856 0.98052117 0.63677331]]\n",
      "[[0.96185742 0.97903218 0.64891523]]\n",
      "[[0.95986817 0.97744705 0.66074135]]\n",
      "[[0.95779903 0.97576112 0.67224748]]\n",
      "[[0.95564829 0.97396965 0.68343089]]\n",
      "[[0.95341433 0.97206783 0.69429012]]\n",
      "[[0.95109556 0.97005081 0.70482497]]\n",
      "[[0.94869051 0.96791369 0.71503629]]\n",
      "[[0.94619779 0.96565156 0.72492596]]\n",
      "[[0.94361612 0.96325951 0.73449674]]\n",
      "[[0.94094434 0.96073268 0.74375217]]\n",
      "[[0.93818143 0.95806626 0.7526965 ]]\n",
      "[[0.9353265  0.95525555 0.76133459]]\n",
      "[[0.93237884 0.95229597 0.76967183]]\n",
      "[[0.9293379  0.9491831  0.77771405]]\n",
      "[[0.92620331 0.94591272 0.78546748]]\n",
      "w = [[0.19033591]\n",
      " [0.12259159]]\n",
      "b = 1.9253598300845747\n",
      "dw = [[0.67752042]\n",
      " [1.41625495]]\n",
      "db = 0.21919450454067652\n"
     ]
    }
   ],
   "source": [
    "params, grads, costs = optimize(w, b, X, Y, num_iterations= 100, learning_rate = 0.009, print_cost = False)\n",
    "print (\"w = \" + str(params[\"w\"]))\n",
    "print (\"b = \" + str(params[\"b\"]))\n",
    "print (\"dw = \" + str(grads[\"dw\"]))\n",
    "print (\"db = \" + str(grads[\"db\"]))"
   ]
  },
  {
   "cell_type": "code",
   "execution_count": 196,
   "metadata": {},
   "outputs": [],
   "source": [
    "def predict(w,b,X):\n",
    "\n",
    "    m = X.shape[1]\n",
    "    Y_prediction = np.zeros((1,m))\n",
    "    Y_DESTINO = np.zeros((1,m))\n",
    "    w = w.reshape(X.shape[0], 1)\n",
    "    \n",
    "    A = sigmoid(np.dot(w.T,X)+b)\n",
    "    #Obtener la predicción sin usar for\n",
    "    Y_DESTINO = np.round(A)\n",
    "    for i in range(A.shape[1]):\n",
    "       \n",
    "        if (A[0,i] <= 0.5):\n",
    "            Y_prediction[0,i] = 0\n",
    "        else:\n",
    "            Y_prediction[0,i] = 1\n",
    "    \n",
    "    assert(Y_prediction.shape == (1, m))\n",
    "    print(\"Mi prediccion: \",Y_DESTINO)\n",
    "    return Y_prediction"
   ]
  },
  {
   "cell_type": "code",
   "execution_count": 197,
   "metadata": {},
   "outputs": [
    {
     "name": "stdout",
     "output_type": "stream",
     "text": [
      "Mi prediccion:  [[1. 1. 0.]]\n",
      "predictions = [[1. 1. 0.]]\n"
     ]
    }
   ],
   "source": [
    "#Prueba de la predicción\n",
    "w = np.array([[0.1124579],[0.23106775]])\n",
    "b = -0.3\n",
    "X = np.array([[1.,-1.1,-3.2],[1.2,2.,0.1]])\n",
    "print (\"predictions = \" + str(predict(w, b, X)))"
   ]
  },
  {
   "cell_type": "code",
   "execution_count": null,
   "metadata": {},
   "outputs": [],
   "source": []
  }
 ],
 "metadata": {
  "kernelspec": {
   "display_name": "Python 3",
   "language": "python",
   "name": "python3"
  },
  "language_info": {
   "codemirror_mode": {
    "name": "ipython",
    "version": 3
   },
   "file_extension": ".py",
   "mimetype": "text/x-python",
   "name": "python",
   "nbconvert_exporter": "python",
   "pygments_lexer": "ipython3",
   "version": "3.7.1"
  }
 },
 "nbformat": 4,
 "nbformat_minor": 2
}
